{
 "cells": [
  {
   "cell_type": "code",
   "execution_count": 157,
   "metadata": {},
   "outputs": [],
   "source": [
    "import pandas as pd\n",
    "import numpy as np\n",
    "import matplotlib.pyplot as plt\n",
    "from statsmodels.graphics.tsaplots import plot_acf, plot_pacf\n",
    "import matplotlib.dates as mdates\n",
    "from sklearn.model_selection import TimeSeriesSplit\n",
    "from statsmodels.tsa.arima.model import ARIMA\n",
    "from sklearn.metrics import mean_squared_error\n",
    "\n",
    "unidf=pd.read_csv(r\"C:\\Users\\hajar\\Time-Series-Crime-Forecasting-Minneapolis-3\\data\\Univ_Date.csv\")"
   ]
  },
  {
   "cell_type": "markdown",
   "metadata": {},
   "source": [
    "## ARIMA\n",
    "1. Split the data into a train and test using time-based splitting\n",
    "2. Check Assumptions and make corrections if needed\n",
    "3. Select ARIMA Model\n",
    "4. Select Best ARIMA Model\n",
    "4. Interpret"
   ]
  },
  {
   "cell_type": "markdown",
   "metadata": {},
   "source": [
    "### Split Data\n",
    "\n",
    "Partition the data set into 4 parts corresponding to 2019-2024. then create nested training sets."
   ]
  },
  {
   "cell_type": "code",
   "execution_count": 158,
   "metadata": {},
   "outputs": [
    {
     "data": {
      "text/html": [
       "<div>\n",
       "<style scoped>\n",
       "    .dataframe tbody tr th:only-of-type {\n",
       "        vertical-align: middle;\n",
       "    }\n",
       "\n",
       "    .dataframe tbody tr th {\n",
       "        vertical-align: top;\n",
       "    }\n",
       "\n",
       "    .dataframe thead th {\n",
       "        text-align: right;\n",
       "    }\n",
       "</style>\n",
       "<table border=\"1\" class=\"dataframe\">\n",
       "  <thead>\n",
       "    <tr style=\"text-align: right;\">\n",
       "      <th></th>\n",
       "      <th>Crime_Count</th>\n",
       "      <th>date</th>\n",
       "    </tr>\n",
       "    <tr>\n",
       "      <th>Date</th>\n",
       "      <th></th>\n",
       "      <th></th>\n",
       "    </tr>\n",
       "  </thead>\n",
       "  <tbody>\n",
       "    <tr>\n",
       "      <th>2019-01-01</th>\n",
       "      <td>88</td>\n",
       "      <td>2019-01-01</td>\n",
       "    </tr>\n",
       "    <tr>\n",
       "      <th>2019-01-02</th>\n",
       "      <td>102</td>\n",
       "      <td>2019-01-02</td>\n",
       "    </tr>\n",
       "    <tr>\n",
       "      <th>2019-01-03</th>\n",
       "      <td>133</td>\n",
       "      <td>2019-01-03</td>\n",
       "    </tr>\n",
       "    <tr>\n",
       "      <th>2019-01-04</th>\n",
       "      <td>95</td>\n",
       "      <td>2019-01-04</td>\n",
       "    </tr>\n",
       "    <tr>\n",
       "      <th>2019-01-05</th>\n",
       "      <td>83</td>\n",
       "      <td>2019-01-05</td>\n",
       "    </tr>\n",
       "    <tr>\n",
       "      <th>...</th>\n",
       "      <td>...</td>\n",
       "      <td>...</td>\n",
       "    </tr>\n",
       "    <tr>\n",
       "      <th>2025-03-06</th>\n",
       "      <td>89</td>\n",
       "      <td>2025-03-06</td>\n",
       "    </tr>\n",
       "    <tr>\n",
       "      <th>2025-03-07</th>\n",
       "      <td>89</td>\n",
       "      <td>2025-03-07</td>\n",
       "    </tr>\n",
       "    <tr>\n",
       "      <th>2025-03-08</th>\n",
       "      <td>70</td>\n",
       "      <td>2025-03-08</td>\n",
       "    </tr>\n",
       "    <tr>\n",
       "      <th>2025-03-09</th>\n",
       "      <td>80</td>\n",
       "      <td>2025-03-09</td>\n",
       "    </tr>\n",
       "    <tr>\n",
       "      <th>2025-03-10</th>\n",
       "      <td>50</td>\n",
       "      <td>2025-03-10</td>\n",
       "    </tr>\n",
       "  </tbody>\n",
       "</table>\n",
       "<p>2261 rows × 2 columns</p>\n",
       "</div>"
      ],
      "text/plain": [
       "            Crime_Count       date\n",
       "Date                              \n",
       "2019-01-01           88 2019-01-01\n",
       "2019-01-02          102 2019-01-02\n",
       "2019-01-03          133 2019-01-03\n",
       "2019-01-04           95 2019-01-04\n",
       "2019-01-05           83 2019-01-05\n",
       "...                 ...        ...\n",
       "2025-03-06           89 2025-03-06\n",
       "2025-03-07           89 2025-03-07\n",
       "2025-03-08           70 2025-03-08\n",
       "2025-03-09           80 2025-03-09\n",
       "2025-03-10           50 2025-03-10\n",
       "\n",
       "[2261 rows x 2 columns]"
      ]
     },
     "execution_count": 158,
     "metadata": {},
     "output_type": "execute_result"
    }
   ],
   "source": [
    "#Validation Set\n",
    "\n",
    "#sort Data\n",
    "unidf=unidf.set_index('Date')\n",
    "unidf=unidf.sort_index()\n",
    "\n",
    "unidf.reset_index()\n",
    "unidf['date']=unidf.index\n",
    "unidf['date'] = pd.to_datetime(unidf['date'], format='%Y-%m-%d')\n",
    "unidf"
   ]
  },
  {
   "cell_type": "code",
   "execution_count": null,
   "metadata": {},
   "outputs": [],
   "source": [
    "#Divide Data into 4 pairs of train and test sets\n",
    "\n",
    "#Partition data by year\n",
    "df19= unidf[unidf['date'].dt.year == 2019].copy()\n",
    "df20= unidf[unidf['date'].dt.year == 2020].copy()\n",
    "df21= unidf[unidf['date'].dt.year == 2021].copy()\n",
    "df22= unidf[unidf['date'].dt.year == 2022].copy()\n",
    "df23= unidf[unidf['date'].dt.year == 2023].copy()\n",
    "df24= unidf[unidf['date'].dt.year == 2024].copy()\n",
    "\n",
    "#create 2025 df for assessing model\n",
    "df25=unidf[unidf['date'].dt.year == 2025].copy()\n",
    "\n",
    "#Drop extra column\n",
    "df19= df19.drop(columns=['date'])\n",
    "df20= df20.drop(columns=['date'])\n",
    "df21= df21.drop(columns=['date'])\n",
    "df22= df22.drop(columns=['date'])\n",
    "df23= df23.drop(columns=['date'])\n",
    "df24= df24.drop(columns=['date'])\n",
    "df25=df25.drop(columns=['date'])\n",
    "\n",
    "\n",
    "#Create 4 pairs of train/test sets\n",
    "\n",
    "train1=pd.concat([df19, df20])\n",
    "test1=df21\n",
    "\n",
    "train2=pd.concat([train1, df21])\n",
    "test2=df22\n",
    "\n",
    "train3=pd.concat([train2, df22])\n",
    "test3=df23\n",
    "\n",
    "train4=pd.concat([train3, df23])\n",
    "test4=df24"
   ]
  },
  {
   "cell_type": "markdown",
   "metadata": {},
   "source": [
    "## STEP 1: Set 1 2019-2021\n",
    "### Check Stationarity\n"
   ]
  },
  {
   "cell_type": "code",
   "execution_count": null,
   "metadata": {},
   "outputs": [],
   "source": [
    "#Look at plot\n",
    "fig, ax=plt.subplots(figsize=(20, 5))\n",
    "plt.plot(train_set.Crime_Count); \n",
    "plt.xticks(rotation=10, fontsize=15)\n",
    "\n",
    "years = mdates.YearLocator()  \n",
    "ax.xaxis.set_major_locator(years)\n",
    "\n",
    "ax.set_xlim('2019-01-01', '2024-12-31')\n",
    "ax.set_title(\"\\nNumber of Reported Crimes per Day in Minneapolis from 2019-2024\\n\",weight='bold',fontdict={'fontsize':20})\n",
    "ax.set_xlabel(\"\\nDate\\n\",fontdict={'fontsize':15})\n",
    "ax.set_ylabel(\"\\nNumber of Reported Crimes\\n\",fontdict={'fontsize':15})\n",
    "\n"
   ]
  },
  {
   "cell_type": "code",
   "execution_count": null,
   "metadata": {},
   "outputs": [],
   "source": [
    "#ADF Test"
   ]
  },
  {
   "cell_type": "markdown",
   "metadata": {},
   "source": [
    "### Differencing"
   ]
  },
  {
   "cell_type": "code",
   "execution_count": null,
   "metadata": {},
   "outputs": [],
   "source": [
    "# ORIGINAL SERIES\n",
    "\n"
   ]
  },
  {
   "cell_type": "markdown",
   "metadata": {},
   "source": [
    "### Determine p and q"
   ]
  },
  {
   "cell_type": "code",
   "execution_count": null,
   "metadata": {},
   "outputs": [],
   "source": [
    "#ACF\n",
    "#plot_acf(train_set.Crime_Count)\n",
    "#PACF\n",
    "#plot_pacf(train_set.Crime_Count,lags=30)"
   ]
  },
  {
   "cell_type": "markdown",
   "metadata": {},
   "source": [
    "### Calculate test MSE"
   ]
  },
  {
   "cell_type": "code",
   "execution_count": null,
   "metadata": {},
   "outputs": [],
   "source": [
    "#test MSE1"
   ]
  },
  {
   "cell_type": "markdown",
   "metadata": {},
   "source": [
    "## STEP 2: Set 2 2019-2022\n",
    "### Check Stationarity"
   ]
  },
  {
   "cell_type": "code",
   "execution_count": null,
   "metadata": {},
   "outputs": [],
   "source": [
    "#Look at plot\n",
    "fig, ax=plt.subplots(figsize=(20, 5))\n",
    "plt.plot(train_set.Crime_Count); \n",
    "plt.xticks(rotation=10, fontsize=15)\n",
    "\n",
    "years = mdates.YearLocator()  \n",
    "ax.xaxis.set_major_locator(years)\n",
    "\n",
    "ax.set_xlim('2019-01-01', '2024-12-31')\n",
    "ax.set_title(\"\\nNumber of Reported Crimes per Day in Minneapolis from 2019-2024\\n\",weight='bold',fontdict={'fontsize':20})\n",
    "ax.set_xlabel(\"\\nDate\\n\",fontdict={'fontsize':15})\n",
    "ax.set_ylabel(\"\\nNumber of Reported Crimes\\n\",fontdict={'fontsize':15})\n",
    "\n"
   ]
  },
  {
   "cell_type": "code",
   "execution_count": null,
   "metadata": {},
   "outputs": [],
   "source": [
    "#ADF Test"
   ]
  },
  {
   "cell_type": "markdown",
   "metadata": {},
   "source": [
    "### Differencing"
   ]
  },
  {
   "cell_type": "code",
   "execution_count": null,
   "metadata": {},
   "outputs": [],
   "source": []
  },
  {
   "cell_type": "markdown",
   "metadata": {},
   "source": [
    "### Determine p and q"
   ]
  },
  {
   "cell_type": "code",
   "execution_count": null,
   "metadata": {},
   "outputs": [],
   "source": [
    "#ACF\n",
    "#plot_acf(train_set.Crime_Count)\n",
    "#PACF\n",
    "#plot_pacf(train_set.Crime_Count,lags=30)"
   ]
  },
  {
   "cell_type": "markdown",
   "metadata": {},
   "source": [
    "### Calculate test MSE"
   ]
  },
  {
   "cell_type": "code",
   "execution_count": null,
   "metadata": {},
   "outputs": [],
   "source": []
  },
  {
   "cell_type": "markdown",
   "metadata": {},
   "source": [
    "## STEP 2: Set 2 2019-2023\n",
    "### Check Stationarity"
   ]
  },
  {
   "cell_type": "code",
   "execution_count": null,
   "metadata": {},
   "outputs": [],
   "source": [
    "#Look at plot\n",
    "fig, ax=plt.subplots(figsize=(20, 5))\n",
    "plt.plot(train_set.Crime_Count); \n",
    "plt.xticks(rotation=10, fontsize=15)\n",
    "\n",
    "years = mdates.YearLocator()  \n",
    "ax.xaxis.set_major_locator(years)\n",
    "\n",
    "ax.set_xlim('2019-01-01', '2024-12-31')\n",
    "ax.set_title(\"\\nNumber of Reported Crimes per Day in Minneapolis from 2019-2024\\n\",weight='bold',fontdict={'fontsize':20})\n",
    "ax.set_xlabel(\"\\nDate\\n\",fontdict={'fontsize':15})\n",
    "ax.set_ylabel(\"\\nNumber of Reported Crimes\\n\",fontdict={'fontsize':15})\n",
    "\n"
   ]
  },
  {
   "cell_type": "markdown",
   "metadata": {},
   "source": [
    "### Fit ARIMA Model and compare to AutoARIMA"
   ]
  },
  {
   "cell_type": "code",
   "execution_count": null,
   "metadata": {},
   "outputs": [],
   "source": [
    "#ARIMA Model"
   ]
  },
  {
   "cell_type": "code",
   "execution_count": null,
   "metadata": {},
   "outputs": [],
   "source": [
    "#Auto ARIMA Model"
   ]
  },
  {
   "cell_type": "markdown",
   "metadata": {},
   "source": [
    "### Calculate test MSE"
   ]
  },
  {
   "cell_type": "code",
   "execution_count": null,
   "metadata": {},
   "outputs": [],
   "source": [
    "#calculate test MSE"
   ]
  },
  {
   "cell_type": "markdown",
   "metadata": {},
   "source": [
    "### K-Folds? Approach using all-subset selection"
   ]
  },
  {
   "cell_type": "markdown",
   "metadata": {},
   "source": [
    "### Fit ARIMA Model and compare to AutoARIMA"
   ]
  },
  {
   "cell_type": "code",
   "execution_count": null,
   "metadata": {},
   "outputs": [],
   "source": [
    "##AutoARIMA\n",
    "\n",
    "#split into 6-folds\n",
    "tscv = TimeSeriesSplit(n_splits=6)\n",
    "\n",
    "# Initialize lists to store evaluation metrics\n",
    "mse_scores = []\n",
    "\n",
    "# Iterate over train-test splits and train models\n",
    "for train_index, test_index in tscv.split(unidf):\n",
    "    train_data, test_data = unidf.iloc[train_index], unidf.iloc[test_index]\n",
    "\n",
    "    # Fit ARIMA model\n",
    "    model = ARIMA(train_data, )  # Example order for ARIMA\n",
    "    fitted_model = model.fit()\n",
    "\n",
    "    # Make predictions\n",
    "    predictions = fitted_model.forecast(steps=len(test_data))\n",
    "\n",
    "    # Calculate Mean Squared Error\n",
    "    mse = mean_squared_error(test_data, predictions)\n",
    "    mse_scores.append(mse)\n",
    "\n",
    "    print(f'Mean Squared Error for current split: {mse}')\n",
    "\n",
    "# Calculate average Mean Squared Error across all splits\n",
    "average_mse = np.mean(mse_scores)\n",
    "print(f'Average Mean Squared Error across all splits: {average_mse}')"
   ]
  },
  {
   "cell_type": "markdown",
   "metadata": {},
   "source": [
    "### Fit Best Model and Forecast"
   ]
  },
  {
   "cell_type": "code",
   "execution_count": null,
   "metadata": {},
   "outputs": [],
   "source": [
    "#Fit Best Model"
   ]
  },
  {
   "cell_type": "code",
   "execution_count": null,
   "metadata": {},
   "outputs": [],
   "source": [
    "#Forecast 2025"
   ]
  },
  {
   "cell_type": "markdown",
   "metadata": {},
   "source": [
    "## Random Forests Time Series Regression\n",
    "1. Lagged predictors\n",
    "2. Check Assumptions and make corrections if needed\n",
    "3. Select ARIMA Model\n",
    "4. Select Best ARIMA Model\n",
    "4. Interpret"
   ]
  }
 ],
 "metadata": {
  "kernelspec": {
   "display_name": "base",
   "language": "python",
   "name": "python3"
  },
  "language_info": {
   "codemirror_mode": {
    "name": "ipython",
    "version": 3
   },
   "file_extension": ".py",
   "mimetype": "text/x-python",
   "name": "python",
   "nbconvert_exporter": "python",
   "pygments_lexer": "ipython3",
   "version": "3.12.7"
  }
 },
 "nbformat": 4,
 "nbformat_minor": 2
}
